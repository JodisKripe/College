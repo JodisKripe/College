{
 "cells": [
  {
   "cell_type": "code",
   "execution_count": 36,
   "metadata": {},
   "outputs": [],
   "source": [
    "import os\n",
    "import random"
   ]
  },
  {
   "cell_type": "code",
   "execution_count": 40,
   "metadata": {},
   "outputs": [],
   "source": [
    "n = 9\n",
    "end = [7,8]\n",
    "path = [[0,0]]\n",
    "maze = [[0 for i in range(n)] for j in range(n)]\n",
    "maze[0]=['0','0','1','1','1','1','1','1','1']\n",
    "maze[1]=['1','0','0','0','0','1','0','0','1']\n",
    "maze[2]=['1','0','1','1','1','0','1','0','1']\n",
    "maze[3]=['1','0','0','1','0','0','0','0','1']\n",
    "maze[4]=['1','0','1','1','1','1','1','0','1']\n",
    "maze[5]=['1','0','0','0','0','0','0','0','1']\n",
    "maze[6]=['1','0','1','1','1','1','1','0','1']\n",
    "maze[7]=['1','0','0','1','0','0','0','0','X']\n",
    "maze[8]=['1','1','1','1','1','1','1','1','1']"
   ]
  },
  {
   "cell_type": "code",
   "execution_count": 43,
   "metadata": {},
   "outputs": [],
   "source": [
    "def solve(maze,player):\n",
    "    global path\n",
    "    print(path)\n",
    "    if player == end:\n",
    "        print(\"Solved: \",path)\n",
    "        return path\n",
    "    else:\n",
    "        print(player)\n",
    "        tmp = path\n",
    "        if player[0] > 0 and maze[player[0]-1][player[1]] == '0':\n",
    "            player[0] -= 1\n",
    "            path = tmp\n",
    "            print(player,path)\n",
    "            if(player not in path):\n",
    "                print(\"UP\")\n",
    "                path.append(player)\n",
    "                solve(maze,player)\n",
    "            else:\n",
    "                path.pop()\n",
    "                player = path[-1]\n",
    "                solve(maze,player)\n",
    "        if player[0] < n-1 and maze[player[0]+1][player[1]] == '0':\n",
    "            player[0] += 1\n",
    "            path = tmp\n",
    "            print(player,path)\n",
    "            if (player not in path):\n",
    "                print(\"DOWN\")\n",
    "                path.append(player)\n",
    "                solve(maze,player)\n",
    "            else:\n",
    "                player = path[-1]\n",
    "                solve(maze,player)\n",
    "        if player[1] > 0 and maze[player[0]][player[1]-1] == '0':\n",
    "            player[1] -= 1\n",
    "            path = tmp\n",
    "            print(player,path)\n",
    "            if (player not in path):\n",
    "                print(\"LEFT\")\n",
    "                path.append(player)\n",
    "                solve(maze,player)\n",
    "            else:\n",
    "                player = path[-1]\n",
    "                solve(maze,player)\n",
    "        if player[1] < n-1 and maze[player[0]][player[1]+1] == '0':\n",
    "            player[1] += 1\n",
    "            path = tmp\n",
    "            print(player,path)\n",
    "            if (player not in path):\n",
    "                print(\"RIGHT\")\n",
    "                path.append(player)\n",
    "                solve(maze,player)\n",
    "            else:\n",
    "                player = path[-1]\n",
    "                solve(maze,player)\n",
    "        else:\n",
    "            pass\n",
    "        # else:\n",
    "        #     path.pop()\n",
    "        #     player = path[-1]\n",
    "        #     solve(maze,player,path"
   ]
  },
  {
   "cell_type": "code",
   "execution_count": 44,
   "metadata": {},
   "outputs": [
    {
     "name": "stdout",
     "output_type": "stream",
     "text": [
      "[[0, 0]]\n",
      "[0, 0]\n",
      "[0, 1] [[0, 0]]\n",
      "RIGHT\n",
      "[[0, 0], [0, 1]]\n",
      "[0, 1]\n",
      "[1, 1] [[0, 0], [1, 1]]\n",
      "[[0, 0], [1, 1]]\n",
      "[1, 1]\n",
      "[0, 1] [[0, 0], [0, 1]]\n",
      "[[0, 0]]\n",
      "[0, 0]\n",
      "[0, 1] [[0, 1]]\n",
      "[[0, 1]]\n",
      "[0, 1]\n",
      "[1, 1] [[1, 1]]\n",
      "[[1, 1]]\n",
      "[1, 1]\n",
      "[0, 1] [[0, 1]]\n"
     ]
    },
    {
     "ename": "IndexError",
     "evalue": "list index out of range",
     "output_type": "error",
     "traceback": [
      "\u001b[0;31m---------------------------------------------------------------------------\u001b[0m",
      "\u001b[0;31mIndexError\u001b[0m                                Traceback (most recent call last)",
      "Cell \u001b[0;32mIn[44], line 3\u001b[0m\n\u001b[1;32m      1\u001b[0m start \u001b[38;5;241m=\u001b[39m [\u001b[38;5;241m0\u001b[39m,\u001b[38;5;241m0\u001b[39m]\n\u001b[1;32m      2\u001b[0m player \u001b[38;5;241m=\u001b[39m start\n\u001b[0;32m----> 3\u001b[0m \u001b[38;5;28mprint\u001b[39m(\u001b[43msolve\u001b[49m\u001b[43m(\u001b[49m\u001b[43mmaze\u001b[49m\u001b[43m,\u001b[49m\u001b[43mplayer\u001b[49m\u001b[43m)\u001b[49m)\n",
      "Cell \u001b[0;32mIn[43], line 51\u001b[0m, in \u001b[0;36msolve\u001b[0;34m(maze, player)\u001b[0m\n\u001b[1;32m     49\u001b[0m     \u001b[38;5;28mprint\u001b[39m(\u001b[38;5;124m\"\u001b[39m\u001b[38;5;124mRIGHT\u001b[39m\u001b[38;5;124m\"\u001b[39m)\n\u001b[1;32m     50\u001b[0m     path\u001b[38;5;241m.\u001b[39mappend(player)\n\u001b[0;32m---> 51\u001b[0m     \u001b[43msolve\u001b[49m\u001b[43m(\u001b[49m\u001b[43mmaze\u001b[49m\u001b[43m,\u001b[49m\u001b[43mplayer\u001b[49m\u001b[43m)\u001b[49m\n\u001b[1;32m     52\u001b[0m \u001b[38;5;28;01melse\u001b[39;00m:\n\u001b[1;32m     53\u001b[0m     player \u001b[38;5;241m=\u001b[39m path[\u001b[38;5;241m-\u001b[39m\u001b[38;5;241m1\u001b[39m]\n",
      "Cell \u001b[0;32mIn[43], line 32\u001b[0m, in \u001b[0;36msolve\u001b[0;34m(maze, player)\u001b[0m\n\u001b[1;32m     30\u001b[0m     \u001b[38;5;28;01melse\u001b[39;00m:\n\u001b[1;32m     31\u001b[0m         player \u001b[38;5;241m=\u001b[39m path[\u001b[38;5;241m-\u001b[39m\u001b[38;5;241m1\u001b[39m]\n\u001b[0;32m---> 32\u001b[0m         \u001b[43msolve\u001b[49m\u001b[43m(\u001b[49m\u001b[43mmaze\u001b[49m\u001b[43m,\u001b[49m\u001b[43mplayer\u001b[49m\u001b[43m)\u001b[49m\n\u001b[1;32m     33\u001b[0m \u001b[38;5;28;01mif\u001b[39;00m player[\u001b[38;5;241m1\u001b[39m] \u001b[38;5;241m>\u001b[39m \u001b[38;5;241m0\u001b[39m \u001b[38;5;129;01mand\u001b[39;00m maze[player[\u001b[38;5;241m0\u001b[39m]][player[\u001b[38;5;241m1\u001b[39m]\u001b[38;5;241m-\u001b[39m\u001b[38;5;241m1\u001b[39m] \u001b[38;5;241m==\u001b[39m \u001b[38;5;124m'\u001b[39m\u001b[38;5;124m0\u001b[39m\u001b[38;5;124m'\u001b[39m:\n\u001b[1;32m     34\u001b[0m     player[\u001b[38;5;241m1\u001b[39m] \u001b[38;5;241m-\u001b[39m\u001b[38;5;241m=\u001b[39m \u001b[38;5;241m1\u001b[39m\n",
      "Cell \u001b[0;32mIn[43], line 21\u001b[0m, in \u001b[0;36msolve\u001b[0;34m(maze, player)\u001b[0m\n\u001b[1;32m     19\u001b[0m         path\u001b[38;5;241m.\u001b[39mpop()\n\u001b[1;32m     20\u001b[0m         player \u001b[38;5;241m=\u001b[39m path[\u001b[38;5;241m-\u001b[39m\u001b[38;5;241m1\u001b[39m]\n\u001b[0;32m---> 21\u001b[0m         \u001b[43msolve\u001b[49m\u001b[43m(\u001b[49m\u001b[43mmaze\u001b[49m\u001b[43m,\u001b[49m\u001b[43mplayer\u001b[49m\u001b[43m)\u001b[49m\n\u001b[1;32m     22\u001b[0m \u001b[38;5;28;01mif\u001b[39;00m player[\u001b[38;5;241m0\u001b[39m] \u001b[38;5;241m<\u001b[39m n\u001b[38;5;241m-\u001b[39m\u001b[38;5;241m1\u001b[39m \u001b[38;5;129;01mand\u001b[39;00m maze[player[\u001b[38;5;241m0\u001b[39m]\u001b[38;5;241m+\u001b[39m\u001b[38;5;241m1\u001b[39m][player[\u001b[38;5;241m1\u001b[39m]] \u001b[38;5;241m==\u001b[39m \u001b[38;5;124m'\u001b[39m\u001b[38;5;124m0\u001b[39m\u001b[38;5;124m'\u001b[39m:\n\u001b[1;32m     23\u001b[0m     player[\u001b[38;5;241m0\u001b[39m] \u001b[38;5;241m+\u001b[39m\u001b[38;5;241m=\u001b[39m \u001b[38;5;241m1\u001b[39m\n",
      "Cell \u001b[0;32mIn[43], line 54\u001b[0m, in \u001b[0;36msolve\u001b[0;34m(maze, player)\u001b[0m\n\u001b[1;32m     52\u001b[0m     \u001b[38;5;28;01melse\u001b[39;00m:\n\u001b[1;32m     53\u001b[0m         player \u001b[38;5;241m=\u001b[39m path[\u001b[38;5;241m-\u001b[39m\u001b[38;5;241m1\u001b[39m]\n\u001b[0;32m---> 54\u001b[0m         \u001b[43msolve\u001b[49m\u001b[43m(\u001b[49m\u001b[43mmaze\u001b[49m\u001b[43m,\u001b[49m\u001b[43mplayer\u001b[49m\u001b[43m)\u001b[49m\n\u001b[1;32m     55\u001b[0m \u001b[38;5;28;01melse\u001b[39;00m:\n\u001b[1;32m     56\u001b[0m     \u001b[38;5;28;01mpass\u001b[39;00m\n",
      "Cell \u001b[0;32mIn[43], line 32\u001b[0m, in \u001b[0;36msolve\u001b[0;34m(maze, player)\u001b[0m\n\u001b[1;32m     30\u001b[0m     \u001b[38;5;28;01melse\u001b[39;00m:\n\u001b[1;32m     31\u001b[0m         player \u001b[38;5;241m=\u001b[39m path[\u001b[38;5;241m-\u001b[39m\u001b[38;5;241m1\u001b[39m]\n\u001b[0;32m---> 32\u001b[0m         \u001b[43msolve\u001b[49m\u001b[43m(\u001b[49m\u001b[43mmaze\u001b[49m\u001b[43m,\u001b[49m\u001b[43mplayer\u001b[49m\u001b[43m)\u001b[49m\n\u001b[1;32m     33\u001b[0m \u001b[38;5;28;01mif\u001b[39;00m player[\u001b[38;5;241m1\u001b[39m] \u001b[38;5;241m>\u001b[39m \u001b[38;5;241m0\u001b[39m \u001b[38;5;129;01mand\u001b[39;00m maze[player[\u001b[38;5;241m0\u001b[39m]][player[\u001b[38;5;241m1\u001b[39m]\u001b[38;5;241m-\u001b[39m\u001b[38;5;241m1\u001b[39m] \u001b[38;5;241m==\u001b[39m \u001b[38;5;124m'\u001b[39m\u001b[38;5;124m0\u001b[39m\u001b[38;5;124m'\u001b[39m:\n\u001b[1;32m     34\u001b[0m     player[\u001b[38;5;241m1\u001b[39m] \u001b[38;5;241m-\u001b[39m\u001b[38;5;241m=\u001b[39m \u001b[38;5;241m1\u001b[39m\n",
      "Cell \u001b[0;32mIn[43], line 20\u001b[0m, in \u001b[0;36msolve\u001b[0;34m(maze, player)\u001b[0m\n\u001b[1;32m     18\u001b[0m     \u001b[38;5;28;01melse\u001b[39;00m:\n\u001b[1;32m     19\u001b[0m         path\u001b[38;5;241m.\u001b[39mpop()\n\u001b[0;32m---> 20\u001b[0m         player \u001b[38;5;241m=\u001b[39m \u001b[43mpath\u001b[49m\u001b[43m[\u001b[49m\u001b[38;5;241;43m-\u001b[39;49m\u001b[38;5;241;43m1\u001b[39;49m\u001b[43m]\u001b[49m\n\u001b[1;32m     21\u001b[0m         solve(maze,player)\n\u001b[1;32m     22\u001b[0m \u001b[38;5;28;01mif\u001b[39;00m player[\u001b[38;5;241m0\u001b[39m] \u001b[38;5;241m<\u001b[39m n\u001b[38;5;241m-\u001b[39m\u001b[38;5;241m1\u001b[39m \u001b[38;5;129;01mand\u001b[39;00m maze[player[\u001b[38;5;241m0\u001b[39m]\u001b[38;5;241m+\u001b[39m\u001b[38;5;241m1\u001b[39m][player[\u001b[38;5;241m1\u001b[39m]] \u001b[38;5;241m==\u001b[39m \u001b[38;5;124m'\u001b[39m\u001b[38;5;124m0\u001b[39m\u001b[38;5;124m'\u001b[39m:\n",
      "\u001b[0;31mIndexError\u001b[0m: list index out of range"
     ]
    }
   ],
   "source": [
    "start = [0,0]\n",
    "player = start\n",
    "print(solve(maze,player))"
   ]
  },
  {
   "cell_type": "code",
   "execution_count": null,
   "metadata": {},
   "outputs": [],
   "source": []
  }
 ],
 "metadata": {
  "kernelspec": {
   "display_name": "Python 3",
   "language": "python",
   "name": "python3"
  },
  "language_info": {
   "codemirror_mode": {
    "name": "ipython",
    "version": 3
   },
   "file_extension": ".py",
   "mimetype": "text/x-python",
   "name": "python",
   "nbconvert_exporter": "python",
   "pygments_lexer": "ipython3",
   "version": "3.10.12"
  }
 },
 "nbformat": 4,
 "nbformat_minor": 2
}

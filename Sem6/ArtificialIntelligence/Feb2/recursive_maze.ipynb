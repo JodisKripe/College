{
 "cells": [
  {
   "cell_type": "code",
   "execution_count": 36,
   "metadata": {},
   "outputs": [],
   "source": [
    "import os\n",
    "import random"
   ]
  },
  {
   "cell_type": "code",
   "execution_count": 40,
   "metadata": {},
   "outputs": [],
   "source": [
    "n = 9\n",
    "end = [7,8]\n",
    "path = [[0,0]]\n",
    "maze = [[0 for i in range(n)] for j in range(n)]\n",
    "maze[0]=['0','0','1','1','1','1','1','1','1']\n",
    "maze[1]=['1','0','0','0','0','1','0','0','1']\n",
    "maze[2]=['1','0','1','1','1','0','1','0','1']\n",
    "maze[3]=['1','0','0','1','0','0','0','0','1']\n",
    "maze[4]=['1','0','1','1','1','1','1','0','1']\n",
    "maze[5]=['1','0','0','0','0','0','0','0','1']\n",
    "maze[6]=['1','0','1','1','1','1','1','0','1']\n",
    "maze[7]=['1','0','0','1','0','0','0','0','X']\n",
    "maze[8]=['1','1','1','1','1','1','1','1','1']"
   ]
  },
  {
   "cell_type": "code",
   "execution_count": 41,
   "metadata": {},
   "outputs": [],
   "source": [
    "def solve(maze,player):\n",
    "    global path\n",
    "    print(path)\n",
    "    if player == end:\n",
    "        print(\"Solved: \",path)\n",
    "        return path\n",
    "    else:\n",
    "        print(player)\n",
    "        tmp = path\n",
    "        if player[0] > 0 and maze[player[0]-1][player[1]] == '0':\n",
    "            player[0] -= 1\n",
    "            path = tmp\n",
    "            print(player,path)\n",
    "            if(player not in path):\n",
    "                print(\"UP\")\n",
    "                path.append(player)\n",
    "                solve(maze,player)\n",
    "            else:\n",
    "                path.pop()\n",
    "                player = path[-1]\n",
    "                solve(maze,player)\n",
    "        if player[0] < n-1 and maze[player[0]+1][player[1]] == '0':\n",
    "            player[0] += 1\n",
    "            path = tmp\n",
    "            print(player,path)\n",
    "            if (player not in path):\n",
    "                print(\"DOWN\")\n",
    "                path.append(player)\n",
    "                solve(maze,player)\n",
    "            else:\n",
    "                player = path[-1]\n",
    "                solve(maze,player)\n",
    "        if player[1] > 0 and maze[player[0]][player[1]-1] == '0':\n",
    "            player[1] -= 1\n",
    "            path = tmp\n",
    "            print(player,path)\n",
    "            if (player not in path):\n",
    "                print(\"LEFT\")\n",
    "                path.append(player)\n",
    "                solve(maze,player)\n",
    "            else:\n",
    "                player = path[-1]\n",
    "                solve(maze,player)\n",
    "        if player[1] < n-1 and maze[player[0]][player[1]+1] == '0':\n",
    "            player[1] += 1\n",
    "            path = tmp\n",
    "            print(player,path)\n",
    "            if (player not in path):\n",
    "                print(\"RIGHT\")\n",
    "                path.append(player)\n",
    "                solve(maze,player)\n",
    "            else:\n",
    "                player = path[-1]\n",
    "                solve(maze,player)\n",
    "        else:\n",
    "            pass\n",
    "        # else:\n",
    "        #     path.pop()\n",
    "        #     player = path[-1]\n",
    "        #     solve(maze,player,path"
   ]
  },
  {
   "cell_type": "code",
   "execution_count": 42,
   "metadata": {},
   "outputs": [
    {
     "ename": "UnboundLocalError",
     "evalue": "local variable 'path' referenced before assignment",
     "output_type": "error",
     "traceback": [
      "\u001b[0;31m---------------------------------------------------------------------------\u001b[0m",
      "\u001b[0;31mUnboundLocalError\u001b[0m                         Traceback (most recent call last)",
      "Cell \u001b[0;32mIn[42], line 3\u001b[0m\n\u001b[1;32m      1\u001b[0m start \u001b[38;5;241m=\u001b[39m [\u001b[38;5;241m0\u001b[39m,\u001b[38;5;241m0\u001b[39m]\n\u001b[1;32m      2\u001b[0m player \u001b[38;5;241m=\u001b[39m start\n\u001b[0;32m----> 3\u001b[0m \u001b[38;5;28mprint\u001b[39m(\u001b[43msolve\u001b[49m\u001b[43m(\u001b[49m\u001b[43mmaze\u001b[49m\u001b[43m,\u001b[49m\u001b[43mplayer\u001b[49m\u001b[43m)\u001b[49m)\n",
      "Cell \u001b[0;32mIn[41], line 2\u001b[0m, in \u001b[0;36msolve\u001b[0;34m(maze, player)\u001b[0m\n\u001b[1;32m      1\u001b[0m \u001b[38;5;28;01mdef\u001b[39;00m \u001b[38;5;21msolve\u001b[39m(maze,player):\n\u001b[0;32m----> 2\u001b[0m     \u001b[38;5;28mprint\u001b[39m(\u001b[43mpath\u001b[49m)\n\u001b[1;32m      3\u001b[0m     \u001b[38;5;28;01mif\u001b[39;00m player \u001b[38;5;241m==\u001b[39m end:\n\u001b[1;32m      4\u001b[0m         \u001b[38;5;28mprint\u001b[39m(\u001b[38;5;124m\"\u001b[39m\u001b[38;5;124mSolved: \u001b[39m\u001b[38;5;124m\"\u001b[39m,path)\n",
      "\u001b[0;31mUnboundLocalError\u001b[0m: local variable 'path' referenced before assignment"
     ]
    }
   ],
   "source": [
    "start = [0,0]\n",
    "player = start\n",
    "print(solve(maze,player))"
   ]
  },
  {
   "cell_type": "code",
   "execution_count": null,
   "metadata": {},
   "outputs": [],
   "source": []
  }
 ],
 "metadata": {
  "kernelspec": {
   "display_name": "Python 3",
   "language": "python",
   "name": "python3"
  },
  "language_info": {
   "codemirror_mode": {
    "name": "ipython",
    "version": 3
   },
   "file_extension": ".py",
   "mimetype": "text/x-python",
   "name": "python",
   "nbconvert_exporter": "python",
   "pygments_lexer": "ipython3",
   "version": "3.10.12"
  }
 },
 "nbformat": 4,
 "nbformat_minor": 2
}

{
 "cells": [
  {
   "cell_type": "code",
   "execution_count": 1,
   "metadata": {},
   "outputs": [],
   "source": [
    "import sys\n",
    "sys.setrecursionlimit(5000)\n",
    "\n",
    "class JUG:\n",
    "    volume = 0\n",
    "    current = 0\n",
    "    def __init__(self,water):\n",
    "        self.volume = water\n",
    "    def complete(self):\n",
    "        self.current = self.volume\n",
    "    def fill(self,water):\n",
    "        if((self.current == self.volume) or (water > self.volume)):\n",
    "            print(\"Already Full or cannot fill it up completely\")\n",
    "            return \"error\"\n",
    "        else:\n",
    "            self.current += water\n",
    "            print(f'Moved {water}L water to JUG{self.volume}')\n",
    "            return \"success\"\n",
    "    def empty(self,water):\n",
    "        if(self.current < water):\n",
    "            print(\"Cannot empty more than there is.\")\n",
    "            return \"error\"\n",
    "        else:\n",
    "            self.current-=water\n",
    "            return \"success\""
   ]
  },
  {
   "cell_type": "code",
   "execution_count": 2,
   "metadata": {},
   "outputs": [],
   "source": [
    "GoalState1 = {\"Jug3\":0,\"Jug4\":2}\n",
    "GoalState2 = {\"Jug3\":2,\"Jug4\":0}"
   ]
  },
  {
   "cell_type": "code",
   "execution_count": 3,
   "metadata": {},
   "outputs": [],
   "source": [
    "def updateState():\n",
    "    CurrentState[\"Jug3\"] = JUG3.current\n",
    "    CurrentState[\"Jug4\"] = JUG4.current\n",
    "\n",
    "def completelyTransfer(JUGsrc,JUGdst,wat):\n",
    "    err1 = JUGsrc.empty(wat)\n",
    "    err2 = JUGdst.fill(wat)\n",
    "    if (err1 == \"error\" or err2 == \"error\"):\n",
    "        return \"error\"\n",
    "    else:\n",
    "        updateState()\n",
    "        return\n",
    "    \n",
    "def topple(JUG):\n",
    "    JUG.empty(JUG.current)\n",
    "    updateState()\n",
    "    return \"OK\""
   ]
  },
  {
   "cell_type": "code",
   "execution_count": 6,
   "metadata": {},
   "outputs": [
    {
     "name": "stdout",
     "output_type": "stream",
     "text": [
      "Moved 3L water to JUG4\n",
      "Moved 1L water to JUG4\n",
      "Moved 2L water to JUG4\n",
      "Solved:\n",
      "['JUG3 -> JUG4 -- 3', 'JUG3 -> JUG4 -- 3', 'JUG4 --> ground -- 4', 'JUG3 --> JUG4 -- 2']\n"
     ]
    },
    {
     "ename": "SystemExit",
     "evalue": "",
     "output_type": "error",
     "traceback": [
      "An exception has occurred, use %tb to see the full traceback.\n",
      "\u001b[0;31mSystemExit\u001b[0m\n"
     ]
    }
   ],
   "source": [
    "Path = []\n",
    "def solve(JUG3,JUG4,Path):\n",
    "    #print(Path)\n",
    "    if(CurrentState == GoalState1):\n",
    "        print(f\"Solved:\\n{Path}\")\n",
    "        sys.exit()\n",
    "    if(JUG3.current == 2):\n",
    "        Path.append(f\"JUG4 --> ground -- {JUG4.current}\")\n",
    "        topple(JUG4)\n",
    "        Path.append(f\"JUG3 --> JUG4 -- {JUG3.current}\")\n",
    "        JUG4.fill(JUG3.current)\n",
    "        JUG3.empty(JUG3.current)\n",
    "        updateState()\n",
    "        solve(JUG3,JUG4,Path)\n",
    "        return\n",
    "    try:\n",
    "            if (Path[-1] == Path [-2]):\n",
    "                return\n",
    "            elif (Path[-1] == Path[-3] and Path[-2] == Path[-4]):\n",
    "                return\n",
    "    except:\n",
    "        pass\n",
    "    JUG3.complete()\n",
    "    wat = JUG3.current\n",
    "    trans = JUG4.volume - JUG4.current if (JUG4.volume - JUG4.current) < wat else wat\n",
    "    if (trans == 0):\n",
    "        Path.append(f\"JUG4 --> ground -- {JUG4.current}\")\n",
    "        JUG4.empty(JUG4.current)\n",
    "        trans = wat\n",
    "    err = completelyTransfer(JUG3,JUG4,trans)\n",
    "    if err != \"error\":\n",
    "        Path.append(f\"JUG3 -> JUG4 -- {wat}\")\n",
    "        solve(JUG3,JUG4,Path)\n",
    "        Path.pop()\n",
    "    \n",
    "    # stat = topple(JUG3)\n",
    "    # if (stat == \"OK\"):\n",
    "    #     Path.append(f\"JUG3 -> Throw -- {JUG3.current}\")\n",
    "    #     solve(JUG3,JUG4,Path)\n",
    "    #     Path.pop(f\"JUG3 -> Throw -- {JUG3.current}\")\n",
    "\n",
    "    stat = topple(JUG4)\n",
    "    if(stat == \"OK\"):\n",
    "        Path.append(f\"JUG4 -> Throw -- {JUG4.current}\")\n",
    "        solve(JUG3,JUG4,Path)\n",
    "        Path.pop()\n",
    "\n",
    "JUG3 = JUG(3)\n",
    "JUG4 = JUG(4)\n",
    "CurrentState = {\"Jug3\":0,\"Jug4\":0}\n",
    "solve(JUG3,JUG4,Path)\n",
    "\n",
    "\n",
    "\n",
    "    "
   ]
  }
 ],
 "metadata": {
  "kernelspec": {
   "display_name": "Python 3",
   "language": "python",
   "name": "python3"
  },
  "language_info": {
   "codemirror_mode": {
    "name": "ipython",
    "version": 3
   },
   "file_extension": ".py",
   "mimetype": "text/x-python",
   "name": "python",
   "nbconvert_exporter": "python",
   "pygments_lexer": "ipython3",
   "version": "3.10.12"
  }
 },
 "nbformat": 4,
 "nbformat_minor": 2
}
